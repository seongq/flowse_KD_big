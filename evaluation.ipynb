{
 "cells": [
  {
   "cell_type": "code",
   "execution_count": null,
   "metadata": {},
   "outputs": [],
   "source": []
  },
  {
   "cell_type": "code",
   "execution_count": 3,
   "metadata": {},
   "outputs": [],
   "source": [
    "import os"
   ]
  },
  {
   "cell_type": "code",
   "execution_count": 5,
   "metadata": {},
   "outputs": [],
   "source": [
    "import os\n",
    "import re\n",
    "import pandas as pd\n",
    "\n",
    "# 루트 경로 설정\n",
    "root_path = \"/workspace/results/clean_KD\"\n",
    "csv_path = f\"{root_path}/summary_results.csv\"\n",
    "setting_file_name = \"_settings.txt\"\n",
    "results_file_name = \"_avg_results.txt\"\n",
    "\n",
    "# 데이터 저장용 리스트\n",
    "data_list = []\n",
    "\n",
    "# 폴더 리스트 가져오기\n",
    "folder_list = os.listdir(root_path)\n",
    "\n",
    "for folder in folder_list:\n",
    "    result_path = os.path.join(root_path, folder, results_file_name)\n",
    "    setting_path = os.path.join(root_path, folder, setting_file_name)\n",
    "\n",
    "    # 결과 파일과 설정 파일이 모두 존재하지 않으면 건너뛰기\n",
    "    if not os.path.exists(result_path) or not os.path.exists(setting_path):\n",
    "        continue\n",
    "\n",
    "    # 결과 파일 읽기\n",
    "    with open(result_path, \"r\") as file:\n",
    "        result_text = file.read()\n",
    "\n",
    "    # PESQ, ESTOI, SI-SDR 추출 (± 앞 숫자만 가져옴)\n",
    "    pesq_match = re.search(r\"PESQ:\\s*([-]?\\d+\\.\\d+)\", result_text)\n",
    "    estoi_match = re.search(r\"ESTOI:\\s*([-]?\\d+\\.\\d+)\", result_text)\n",
    "    si_sdr_match = re.search(r\"SI-SDR:\\s*([-]?\\d+\\.\\d+)\", result_text)\n",
    "\n",
    "    pesq = float(pesq_match.group(1)) if pesq_match else None\n",
    "    estoi = float(estoi_match.group(1)) if estoi_match else None\n",
    "    si_sdr = float(si_sdr_match.group(1)) if si_sdr_match else None\n",
    "\n",
    "    # 설정 파일 읽기\n",
    "    with open(setting_path, \"r\") as file:\n",
    "        setting_text = file.read()\n",
    "\n",
    "    # epoch, mode, evaluationnumbers, data 추출\n",
    "    epoch_match = re.search(r\"epoch:\\s*(\\d+)\", setting_text)\n",
    "    mode_match = re.search(r\"mode:\\s*(\\w+)\", setting_text)\n",
    "    eval_match = re.search(r\"evaluationnumbers:\\s*(\\d+)\", setting_text)\n",
    "    data_match = re.search(r\"data:\\s*(.+)\", setting_text)\n",
    "\n",
    "    epoch = int(epoch_match.group(1)) if epoch_match else None\n",
    "    mode = mode_match.group(1) if mode_match else None\n",
    "    evaluationnumbers = int(eval_match.group(1)) if eval_match else None\n",
    "    data = os.path.basename(data_match.group(1)) if data_match else None\n",
    "\n",
    "    # 리스트에 추가\n",
    "    data_list.append([folder, pesq, estoi, si_sdr, epoch, mode, evaluationnumbers, data])\n",
    "\n",
    "# DataFrame 생성\n",
    "df = pd.DataFrame(data_list, columns=[\"folder\", \"PESQ\", \"ESTOI\", \"SI-SDR\", \"epoch\", \"mode\", \"evaluationnumbers\", \"data\"])\n",
    "\n",
    "# CSV 저장\n",
    "df.to_csv(csv_path, index=False)\n",
    "\n",
    "# CSV 파일 표시\n",
    "# import ace_tools as tools\n",
    "# tools.display_dataframe_to_user(name=\"Summary Results\", dataframe=df)\n"
   ]
  }
 ],
 "metadata": {
  "kernelspec": {
   "display_name": "base",
   "language": "python",
   "name": "python3"
  },
  "language_info": {
   "codemirror_mode": {
    "name": "ipython",
    "version": 3
   },
   "file_extension": ".py",
   "mimetype": "text/x-python",
   "name": "python",
   "nbconvert_exporter": "python",
   "pygments_lexer": "ipython3",
   "version": "3.11.10"
  }
 },
 "nbformat": 4,
 "nbformat_minor": 2
}
